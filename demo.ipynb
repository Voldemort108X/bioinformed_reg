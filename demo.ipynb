{
 "cells": [
  {
   "cell_type": "markdown",
   "metadata": {},
   "source": [
    "# Reproduce our quantitative testing results\n",
    "## ACDC 2017"
   ]
  },
  {
   "cell_type": "code",
   "execution_count": 1,
   "metadata": {},
   "outputs": [
    {
     "name": "stdout",
     "output_type": "stream",
     "text": [
      "['patient003', 'patient012', 'patient017', 'patient020', 'patient028', 'patient032', 'patient036', 'patient040', 'patient045', 'patient049', 'patient053', 'patient060', 'patient063', 'patient072', 'patient076', 'patient084', 'patient087', 'patient091', 'patient096', 'patient100']\n"
     ]
    }
   ],
   "source": [
    "import os\n",
    "path_ACDC = '../../Dataset/ACDC2017/'\n",
    "print(os.listdir(os.path.join(path_ACDC, 'testing')))"
   ]
  },
  {
   "cell_type": "markdown",
   "metadata": {},
   "source": [
    "### RegNet+BIM"
   ]
  },
  {
   "cell_type": "code",
   "execution_count": 5,
   "metadata": {},
   "outputs": [
    {
     "name": "stdout",
     "output_type": "stream",
     "text": [
      "Testing model used Namespace(model_name='model_ACDC17_bmreg_nup_0.4_bs_4_epoch_100_lr_0.0001_lmbd_0.05', modelpath='./models/', resultpath='./results')\n",
      "  0%|                                                    | 0/20 [00:00<?, ?it/s]/home/xiaoranzhang/anaconda3/envs/xiaoran_cardiac/lib/python3.6/site-packages/torch/nn/functional.py:3982: UserWarning: Default grid_sample and affine_grid behavior has changed to align_corners=False since 1.3.0. Please specify align_corners=True if the old behavior is desired. See the documentation of grid_sample for details.\n",
      "  \"Default grid_sample and affine_grid behavior has changed \"\n",
      "100%|███████████████████████████████████████████| 20/20 [00:02<00:00,  7.38it/s]\n"
     ]
    }
   ],
   "source": [
    "!python test.py --model_name model_ACDC17_bmreg_nup_0.4_bs_4_epoch_100_lr_0.0001_lmbd_0.05"
   ]
  },
  {
   "cell_type": "code",
   "execution_count": 1,
   "metadata": {},
   "outputs": [
    {
     "name": "stderr",
     "output_type": "stream",
     "text": [
      "/home/xiaoranzhang/anaconda3/envs/xiaoran_cardiac/lib/python3.6/site-packages/torch/nn/functional.py:3982: UserWarning: Default grid_sample and affine_grid behavior has changed to align_corners=False since 1.3.0. Please specify align_corners=True if the old behavior is desired. See the documentation of grid_sample for details.\n",
      "  \"Default grid_sample and affine_grid behavior has changed \"\n",
      "/mnt/d/XiaoranZhang/STACOM2022/bioinformed_reg/metrics.py:120: RuntimeWarning: invalid value encountered in true_divide\n",
      "  fix_mask = (fix_mask - np.min(fix_mask)) / (np.max(fix_mask) - np.min(fix_mask))\n",
      "/mnt/d/XiaoranZhang/STACOM2022/bioinformed_reg/metrics.py:119: RuntimeWarning: invalid value encountered in true_divide\n",
      "  mov_mask = (mov_mask - np.min(mov_mask)) / (np.max(mov_mask) - np.min(mov_mask))\n",
      "/mnt/d/XiaoranZhang/STACOM2022/bioinformed_reg/metrics.py:121: RuntimeWarning: invalid value encountered in true_divide\n",
      "  moved_mask = (moved_mask - np.min(moved_mask)) / (np.max(moved_mask) - np.min(moved_mask))\n"
     ]
    },
    {
     "name": "stdout",
     "output_type": "stream",
     "text": [
      "dice 0.9031802861473299\n",
      "jaccard 0.8270046184299276\n",
      "hd 5.50867463615991\n",
      "asd 0.3683792267655265\n",
      "detjac 0.0034519763649395463\n",
      "detjac std 0.003579451708355025\n"
     ]
    }
   ],
   "source": [
    "from metrics import func_computeAllMetrics\n",
    "import numpy as np \n",
    "model_name = 'model_ACDC17_bmreg_nup_0.4_bs_4_epoch_100_lr_0.0001_lmbd_0.05' \n",
    "ssim_index_list, mse_index_list, dice_list, jc_list, hd_list, asd_list, detjac_list = func_computeAllMetrics(model_name, 'ACDC17', 'LV', req_reg='False')\n",
    "\n",
    "\n",
    "print('dice', np.mean(dice_list))\n",
    "print('jaccard', np.mean(jc_list))\n",
    "print('hd', np.mean(hd_list))\n",
    "print('asd', np.mean(asd_list))\n",
    "print('detjac', np.mean(detjac_list))\n",
    "print('detjac std', np.std(detjac_list))"
   ]
  },
  {
   "cell_type": "code",
   "execution_count": 2,
   "metadata": {},
   "outputs": [
    {
     "name": "stdout",
     "output_type": "stream",
     "text": [
      "dice 0.8507061546861315\n",
      "jaccard 0.7615852863348402\n",
      "hd 14.54689574006701\n",
      "asd 2.2237306191956745\n",
      "detjac 0.0034519763649395463\n",
      "detjac std 0.003579451708355025\n"
     ]
    }
   ],
   "source": [
    "from metrics import func_computeAllMetrics\n",
    "import numpy as np \n",
    "model_name = 'model_ACDC17_bmreg_nup_0.4_bs_4_epoch_100_lr_0.0001_lmbd_0.05' \n",
    "ssim_index_list, mse_index_list, dice_list, jc_list, hd_list, asd_list, detjac_list = func_computeAllMetrics(model_name, 'ACDC17', 'RV', req_reg='False')\n",
    "\n",
    "\n",
    "print('dice', np.mean(dice_list))\n",
    "print('jaccard', np.mean(jc_list))\n",
    "print('hd', np.mean(hd_list))\n",
    "print('asd', np.mean(asd_list))\n",
    "print('detjac', np.mean(detjac_list))\n",
    "print('detjac std', np.std(detjac_list))"
   ]
  },
  {
   "cell_type": "code",
   "execution_count": 3,
   "metadata": {},
   "outputs": [
    {
     "name": "stdout",
     "output_type": "stream",
     "text": [
      "dice 0.9153735044457392\n",
      "jaccard 0.8475190053657007\n",
      "hd 6.195560509901743\n",
      "asd 0.4011940602238713\n",
      "detjac 0.0034519763649395463\n",
      "detjac std 0.003579451708355025\n"
     ]
    }
   ],
   "source": [
    "from metrics import func_computeAllMetrics\n",
    "import numpy as np \n",
    "model_name = 'model_ACDC17_bmreg_nup_0.4_bs_4_epoch_100_lr_0.0001_lmbd_0.05' \n",
    "ssim_index_list, mse_index_list, dice_list, jc_list, hd_list, asd_list, detjac_list = func_computeAllMetrics(model_name, 'ACDC17', 'Epi', req_reg='False')\n",
    "\n",
    "\n",
    "print('dice', np.mean(dice_list))\n",
    "print('jaccard', np.mean(jc_list))\n",
    "print('hd', np.mean(hd_list))\n",
    "print('asd', np.mean(asd_list))\n",
    "print('detjac', np.mean(detjac_list))\n",
    "print('detjac std', np.std(detjac_list))"
   ]
  },
  {
   "cell_type": "markdown",
   "metadata": {},
   "source": [
    "### RegNet+BIM+$\\mathcal{L}_{seg}$"
   ]
  },
  {
   "cell_type": "code",
   "execution_count": 2,
   "metadata": {},
   "outputs": [
    {
     "name": "stdout",
     "output_type": "stream",
     "text": [
      "Testing model used Namespace(model_name='model_ACDC17_bmreg_seg_nup_0.4_bs_4_epoch_100_lr_0.0001_lmbd_0.05_gamma_0.01', modelpath='./models/', resultpath='./results')\n",
      "  0%|                                                    | 0/20 [00:00<?, ?it/s]/home/xiaoranzhang/anaconda3/envs/xiaoran_cardiac/lib/python3.6/site-packages/torch/nn/functional.py:3982: UserWarning: Default grid_sample and affine_grid behavior has changed to align_corners=False since 1.3.0. Please specify align_corners=True if the old behavior is desired. See the documentation of grid_sample for details.\n",
      "  \"Default grid_sample and affine_grid behavior has changed \"\n",
      "100%|███████████████████████████████████████████| 20/20 [00:02<00:00,  8.64it/s]\n"
     ]
    }
   ],
   "source": [
    "!python test.py --model_name model_ACDC17_bmreg_seg_nup_0.4_bs_4_epoch_100_lr_0.0001_lmbd_0.05_gamma_0.01"
   ]
  },
  {
   "cell_type": "code",
   "execution_count": 3,
   "metadata": {},
   "outputs": [
    {
     "name": "stderr",
     "output_type": "stream",
     "text": [
      "/home/xiaoranzhang/anaconda3/envs/xiaoran_cardiac/lib/python3.6/site-packages/torch/nn/functional.py:3982: UserWarning: Default grid_sample and affine_grid behavior has changed to align_corners=False since 1.3.0. Please specify align_corners=True if the old behavior is desired. See the documentation of grid_sample for details.\n",
      "  \"Default grid_sample and affine_grid behavior has changed \"\n",
      "/mnt/d/XiaoranZhang/STACOM2022/bioinformed_reg/metrics.py:120: RuntimeWarning: invalid value encountered in true_divide\n",
      "  fix_mask = (fix_mask - np.min(fix_mask)) / (np.max(fix_mask) - np.min(fix_mask))\n",
      "/mnt/d/XiaoranZhang/STACOM2022/bioinformed_reg/metrics.py:119: RuntimeWarning: invalid value encountered in true_divide\n",
      "  mov_mask = (mov_mask - np.min(mov_mask)) / (np.max(mov_mask) - np.min(mov_mask))\n",
      "/mnt/d/XiaoranZhang/STACOM2022/bioinformed_reg/metrics.py:121: RuntimeWarning: invalid value encountered in true_divide\n",
      "  moved_mask = (moved_mask - np.min(moved_mask)) / (np.max(moved_mask) - np.min(moved_mask))\n"
     ]
    },
    {
     "name": "stdout",
     "output_type": "stream",
     "text": [
      "dice 0.9277480784554867\n",
      "jaccard 0.8675760368133124\n",
      "hd 4.386624134358522\n",
      "asd 0.1929422075400335\n",
      "detjac 0.0037234293390980156\n",
      "detjac std 0.003779674471222496\n"
     ]
    }
   ],
   "source": [
    "from metrics import func_computeAllMetrics\n",
    "import numpy as np \n",
    "model_name = 'model_ACDC17_bmreg_seg_nup_0.4_bs_4_epoch_100_lr_0.0001_lmbd_0.05_gamma_0.01'\n",
    "ssim_index_list, mse_index_list, dice_list, jc_list, hd_list, asd_list, detjac_list = func_computeAllMetrics(model_name, 'ACDC17', 'LV', req_reg='False')\n",
    "\n",
    "\n",
    "print('dice', np.mean(dice_list))\n",
    "print('jaccard', np.mean(jc_list))\n",
    "print('hd', np.mean(hd_list))\n",
    "print('asd', np.mean(asd_list))\n",
    "print('detjac', np.mean(detjac_list))\n",
    "print('detjac std', np.std(detjac_list))"
   ]
  },
  {
   "cell_type": "code",
   "execution_count": 4,
   "metadata": {},
   "outputs": [
    {
     "name": "stdout",
     "output_type": "stream",
     "text": [
      "dice 0.8592803899817891\n",
      "jaccard 0.775408872396279\n",
      "hd 14.069747635984442\n",
      "asd 2.145831945817593\n",
      "detjac 0.0037234293390980156\n",
      "detjac std 0.003779674471222496\n"
     ]
    }
   ],
   "source": [
    "from metrics import func_computeAllMetrics\n",
    "import numpy as np \n",
    "model_name = 'model_ACDC17_bmreg_seg_nup_0.4_bs_4_epoch_100_lr_0.0001_lmbd_0.05_gamma_0.01'\n",
    "ssim_index_list, mse_index_list, dice_list, jc_list, hd_list, asd_list, detjac_list = func_computeAllMetrics(model_name, 'ACDC17', 'RV', req_reg='False')\n",
    "\n",
    "\n",
    "print('dice', np.mean(dice_list))\n",
    "print('jaccard', np.mean(jc_list))\n",
    "print('hd', np.mean(hd_list))\n",
    "print('asd', np.mean(asd_list))\n",
    "print('detjac', np.mean(detjac_list))\n",
    "print('detjac std', np.std(detjac_list))"
   ]
  },
  {
   "cell_type": "code",
   "execution_count": 5,
   "metadata": {},
   "outputs": [
    {
     "name": "stdout",
     "output_type": "stream",
     "text": [
      "dice 0.925711461054185\n",
      "jaccard 0.864846244645595\n",
      "hd 5.537911042594801\n",
      "asd 0.3153056772451815\n",
      "detjac 0.0037234293390980156\n",
      "detjac std 0.003779674471222496\n"
     ]
    }
   ],
   "source": [
    "from metrics import func_computeAllMetrics\n",
    "import numpy as np \n",
    "model_name = 'model_ACDC17_bmreg_seg_nup_0.4_bs_4_epoch_100_lr_0.0001_lmbd_0.05_gamma_0.01'\n",
    "ssim_index_list, mse_index_list, dice_list, jc_list, hd_list, asd_list, detjac_list = func_computeAllMetrics(model_name, 'ACDC17', 'Epi', req_reg='False')\n",
    "\n",
    "\n",
    "print('dice', np.mean(dice_list))\n",
    "print('jaccard', np.mean(jc_list))\n",
    "print('hd', np.mean(hd_list))\n",
    "print('asd', np.mean(asd_list))\n",
    "print('detjac', np.mean(detjac_list))\n",
    "print('detjac std', np.std(detjac_list))"
   ]
  },
  {
   "cell_type": "markdown",
   "metadata": {},
   "source": [
    "## LV quant 2019"
   ]
  },
  {
   "cell_type": "code",
   "execution_count": 4,
   "metadata": {},
   "outputs": [
    {
     "name": "stdout",
     "output_type": "stream",
     "text": [
      "['patient50_f_11_f_20.pkl', 'patient50_f_1_f_10.pkl', 'patient51_f_11_f_20.pkl', 'patient51_f_1_f_10.pkl', 'patient52_f_11_f_20.pkl', 'patient52_f_1_f_10.pkl', 'patient53_f_11_f_20.pkl', 'patient53_f_1_f_10.pkl', 'patient54_f_11_f_20.pkl', 'patient54_f_1_f_10.pkl', 'patient55_f_11_f_20.pkl', 'patient55_f_1_f_10.pkl', 'patient56_f_11_f_20.pkl', 'patient56_f_1_f_10.pkl', 'patient5_f_11_f_20.pkl', 'patient6_f_11_f_20.pkl', 'patient6_f_1_f_10.pkl', 'patient7_f_11_f_20.pkl', 'patient7_f_1_f_10.pkl', 'patient8_f_11_f_20.pkl', 'patient8_f_1_f_10.pkl', 'patient9_f_11_f_20.pkl', 'patient9_f_1_f_10.pkl']\n"
     ]
    }
   ],
   "source": [
    "path_LV_quant = '../../Dataset/LV_Quant_Challenge/'\n",
    "print(os.listdir(os.path.join(path_LV_quant, 'testing')))"
   ]
  },
  {
   "cell_type": "markdown",
   "metadata": {},
   "source": [
    "### RegNet+BIM"
   ]
  },
  {
   "cell_type": "code",
   "execution_count": 1,
   "metadata": {},
   "outputs": [
    {
     "name": "stdout",
     "output_type": "stream",
     "text": [
      "Testing model used Namespace(model_name='model_LVQuant19_bmreg_nup_0.4_bs_4_epoch_100_lr_0.0001_lmbd_0.001', modelpath='./models/', resultpath='./results')\n",
      "  0%|                                                    | 0/23 [00:00<?, ?it/s]/home/xiaoranzhang/anaconda3/envs/xiaoran_cardiac/lib/python3.6/site-packages/torch/nn/functional.py:3982: UserWarning: Default grid_sample and affine_grid behavior has changed to align_corners=False since 1.3.0. Please specify align_corners=True if the old behavior is desired. See the documentation of grid_sample for details.\n",
      "  \"Default grid_sample and affine_grid behavior has changed \"\n",
      "100%|███████████████████████████████████████████| 23/23 [00:01<00:00, 17.39it/s]\n"
     ]
    }
   ],
   "source": [
    "!python test.py --model_name model_LVQuant19_bmreg_nup_0.4_bs_4_epoch_100_lr_0.0001_lmbd_0.001"
   ]
  },
  {
   "cell_type": "code",
   "execution_count": 3,
   "metadata": {},
   "outputs": [
    {
     "name": "stderr",
     "output_type": "stream",
     "text": [
      "/mnt/d/XiaoranZhang/STACOM2022/bioinformed_reg/metrics.py:62: UserWarning: Inputs have mismatched dtype.  Setting data_range based on im1.dtype.\n",
      "  ssim_index = ssim(fix, moved)\n",
      "/home/xiaoranzhang/anaconda3/envs/xiaoran_cardiac/lib/python3.6/site-packages/torch/nn/functional.py:3982: UserWarning: Default grid_sample and affine_grid behavior has changed to align_corners=False since 1.3.0. Please specify align_corners=True if the old behavior is desired. See the documentation of grid_sample for details.\n",
      "  \"Default grid_sample and affine_grid behavior has changed \"\n"
     ]
    },
    {
     "name": "stdout",
     "output_type": "stream",
     "text": [
      "dice 0.8424315551060836\n",
      "jaccard 0.7386707955675043\n",
      "hd 6.6296733550065\n",
      "asd 0.475974433328352\n",
      "detjac 0.003665110536618147\n",
      "detjac std 0.003457166703424992\n"
     ]
    }
   ],
   "source": [
    "from metrics import func_computeAllMetrics\n",
    "import numpy as np \n",
    "model_name = 'model_LVQuant19_bmreg_nup_0.4_bs_4_epoch_100_lr_0.0001_lmbd_0.001' \n",
    "ssim_index_list, mse_index_list, dice_list, jc_list, hd_list, asd_list, detjac_list = func_computeAllMetrics(model_name, 'LVQuant19', 'Endo', req_reg='False')\n",
    "\n",
    "\n",
    "print('dice', np.mean(dice_list))\n",
    "print('jaccard', np.mean(jc_list))\n",
    "print('hd', np.mean(hd_list))\n",
    "print('asd', np.mean(asd_list))\n",
    "print('detjac', np.mean(detjac_list))\n",
    "print('detjac std', np.std(detjac_list))"
   ]
  },
  {
   "cell_type": "code",
   "execution_count": 4,
   "metadata": {},
   "outputs": [
    {
     "name": "stdout",
     "output_type": "stream",
     "text": [
      "dice 0.938022705780526\n",
      "jaccard 0.8840558878551313\n",
      "hd 4.712162696884657\n",
      "asd 0.12791476596705015\n",
      "detjac 0.003665110536618147\n",
      "detjac std 0.003457166703424992\n"
     ]
    }
   ],
   "source": [
    "from metrics import func_computeAllMetrics\n",
    "import numpy as np \n",
    "model_name = 'model_LVQuant19_bmreg_nup_0.4_bs_4_epoch_100_lr_0.0001_lmbd_0.001' \n",
    "ssim_index_list, mse_index_list, dice_list, jc_list, hd_list, asd_list, detjac_list = func_computeAllMetrics(model_name, 'LVQuant19', 'Epi', req_reg='False')\n",
    "\n",
    "\n",
    "print('dice', np.mean(dice_list))\n",
    "print('jaccard', np.mean(jc_list))\n",
    "print('hd', np.mean(hd_list))\n",
    "print('asd', np.mean(asd_list))\n",
    "print('detjac', np.mean(detjac_list))\n",
    "print('detjac std', np.std(detjac_list))"
   ]
  },
  {
   "cell_type": "markdown",
   "metadata": {},
   "source": []
  },
  {
   "cell_type": "markdown",
   "metadata": {},
   "source": [
    "### RegNet+BIM+$\\mathcal{L}_{seg}$"
   ]
  },
  {
   "cell_type": "code",
   "execution_count": 2,
   "metadata": {},
   "outputs": [
    {
     "name": "stdout",
     "output_type": "stream",
     "text": [
      "Testing model used Namespace(model_name='model_LVQuant19_bmreg_seg_nup_0.4_bs_4_epoch_100_lr_0.0001_lmbd_0.001_gamma_0.01', modelpath='./models/', resultpath='./results')\n",
      "  0%|                                                    | 0/23 [00:00<?, ?it/s]/home/xiaoranzhang/anaconda3/envs/xiaoran_cardiac/lib/python3.6/site-packages/torch/nn/functional.py:3982: UserWarning: Default grid_sample and affine_grid behavior has changed to align_corners=False since 1.3.0. Please specify align_corners=True if the old behavior is desired. See the documentation of grid_sample for details.\n",
      "  \"Default grid_sample and affine_grid behavior has changed \"\n",
      "100%|███████████████████████████████████████████| 23/23 [00:01<00:00, 13.75it/s]\n"
     ]
    }
   ],
   "source": [
    "!python test.py --model_name model_LVQuant19_bmreg_seg_nup_0.4_bs_4_epoch_100_lr_0.0001_lmbd_0.001_gamma_0.01"
   ]
  },
  {
   "cell_type": "code",
   "execution_count": 5,
   "metadata": {},
   "outputs": [
    {
     "name": "stdout",
     "output_type": "stream",
     "text": [
      "dice 0.8664980973765859\n",
      "jaccard 0.7747555739792048\n",
      "hd 6.4454592315667005\n",
      "asd 0.41845406548960795\n",
      "detjac 0.004200888107145721\n",
      "detjac std 0.004026317970565115\n"
     ]
    }
   ],
   "source": [
    "from metrics import func_computeAllMetrics\n",
    "import numpy as np \n",
    "model_name = 'model_LVQuant19_bmreg_seg_nup_0.4_bs_4_epoch_100_lr_0.0001_lmbd_0.001_gamma_0.01' \n",
    "ssim_index_list, mse_index_list, dice_list, jc_list, hd_list, asd_list, detjac_list = func_computeAllMetrics(model_name, 'LVQuant19', 'Endo', req_reg='False')\n",
    "\n",
    "\n",
    "print('dice', np.mean(dice_list))\n",
    "print('jaccard', np.mean(jc_list))\n",
    "print('hd', np.mean(hd_list))\n",
    "print('asd', np.mean(asd_list))\n",
    "print('detjac', np.mean(detjac_list))\n",
    "print('detjac std', np.std(detjac_list))"
   ]
  },
  {
   "cell_type": "code",
   "execution_count": 6,
   "metadata": {},
   "outputs": [
    {
     "name": "stdout",
     "output_type": "stream",
     "text": [
      "dice 0.9429215634404575\n",
      "jaccard 0.8926349144258039\n",
      "hd 4.503659980967996\n",
      "asd 0.10822617029371924\n",
      "detjac 0.004200888107145721\n",
      "detjac std 0.004026317970565115\n"
     ]
    }
   ],
   "source": [
    "from metrics import func_computeAllMetrics\n",
    "import numpy as np \n",
    "model_name = 'model_LVQuant19_bmreg_seg_nup_0.4_bs_4_epoch_100_lr_0.0001_lmbd_0.001_gamma_0.01' \n",
    "ssim_index_list, mse_index_list, dice_list, jc_list, hd_list, asd_list, detjac_list = func_computeAllMetrics(model_name, 'LVQuant19', 'Epi', req_reg='False')\n",
    "\n",
    "\n",
    "print('dice', np.mean(dice_list))\n",
    "print('jaccard', np.mean(jc_list))\n",
    "print('hd', np.mean(hd_list))\n",
    "print('asd', np.mean(asd_list))\n",
    "print('detjac', np.mean(detjac_list))\n",
    "print('detjac std', np.std(detjac_list))"
   ]
  },
  {
   "cell_type": "markdown",
   "metadata": {},
   "source": [
    "## Conclusion: all the above statistics match the figures reported in our paper."
   ]
  }
 ],
 "metadata": {
  "kernelspec": {
   "display_name": "Python 3.6.13 ('xiaoran_cardiac')",
   "language": "python",
   "name": "python3"
  },
  "language_info": {
   "codemirror_mode": {
    "name": "ipython",
    "version": 3
   },
   "file_extension": ".py",
   "mimetype": "text/x-python",
   "name": "python",
   "nbconvert_exporter": "python",
   "pygments_lexer": "ipython3",
   "version": "3.6.13"
  },
  "orig_nbformat": 4,
  "vscode": {
   "interpreter": {
    "hash": "2de306b11348f554b1c10b1332866e2b4410e5ce55a401848c057a088414fb1f"
   }
  }
 },
 "nbformat": 4,
 "nbformat_minor": 2
}
